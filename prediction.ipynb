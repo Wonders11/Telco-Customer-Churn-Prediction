{
 "cells": [
  {
   "cell_type": "code",
   "execution_count": 1,
   "metadata": {},
   "outputs": [
    {
     "name": "stdout",
     "output_type": "stream",
     "text": [
      "WARNING:tensorflow:From e:\\iNeuron\\Personal Projects\\Telco Customer Churn Prediction\\churnpred\\lib\\site-packages\\keras\\src\\losses.py:2976: The name tf.losses.sparse_softmax_cross_entropy is deprecated. Please use tf.compat.v1.losses.sparse_softmax_cross_entropy instead.\n",
      "\n"
     ]
    }
   ],
   "source": [
    "import tensorflow as tf\n",
    "from tensorflow.keras.models import load_model\n",
    "import pickle\n",
    "import pandas as pd\n",
    "import numpy as np"
   ]
  },
  {
   "cell_type": "code",
   "execution_count": 2,
   "metadata": {},
   "outputs": [
    {
     "name": "stdout",
     "output_type": "stream",
     "text": [
      "WARNING:tensorflow:From e:\\iNeuron\\Personal Projects\\Telco Customer Churn Prediction\\churnpred\\lib\\site-packages\\keras\\src\\backend.py:1398: The name tf.executing_eagerly_outside_functions is deprecated. Please use tf.compat.v1.executing_eagerly_outside_functions instead.\n",
      "\n"
     ]
    }
   ],
   "source": [
    "# Load the trained model, scaler and onehotencoder pickle file\n",
    "model = load_model('model.h5')\n",
    "\n",
    "# load the encoder and scaler pickle file\n",
    "with open('label_encoders.pkl','rb') as file:\n",
    "    label_encoders = pickle.load(file)\n",
    "\n",
    "with open('onehot_encoder.pkl','rb') as file:\n",
    "    onehot_encoder = pickle.load(file)\n",
    "\n",
    "with open('scaler.pkl','rb') as file:\n",
    "    scaler = pickle.load(file)"
   ]
  },
  {
   "cell_type": "code",
   "execution_count": 3,
   "metadata": {},
   "outputs": [],
   "source": [
    "# Taking input data\n",
    "\n",
    "input_data = {\n",
    "    'gender': ['Male'],\n",
    "    'SeniorCitizen': ['No'],\n",
    "    'Partner': ['Yes'],\n",
    "    'Dependents': ['No'],\n",
    "    'tenure': ['12'],\n",
    "    'PhoneService': ['Yes'],\n",
    "    'MultipleLines': ['No'],\n",
    "    'InternetService': ['DSL'],\n",
    "    'OnlineSecurity': ['Yes'],\n",
    "    'OnlineBackup': ['No'],\n",
    "    'DeviceProtection': ['No'],\n",
    "    'TechSupport': ['No'],\n",
    "    'StreamingTV': ['No'],\n",
    "    'StreamingMovies': ['No'],\n",
    "    'Contract': ['Month-to-month'],\n",
    "    'PaperlessBilling': ['Yes'],\n",
    "    'PaymentMethod': ['Electronic check'],\n",
    "    'MonthlyCharges': ['29.85'],\n",
    "    'TotalCharges': ['298.50'],\n",
    "}"
   ]
  },
  {
   "cell_type": "code",
   "execution_count": 4,
   "metadata": {},
   "outputs": [
    {
     "name": "stdout",
     "output_type": "stream",
     "text": [
      "  gender SeniorCitizen Partner Dependents tenure PhoneService MultipleLines  \\\n",
      "0   Male            No     Yes         No     12          Yes            No   \n",
      "\n",
      "  OnlineSecurity OnlineBackup DeviceProtection  ... InternetService_DSL  \\\n",
      "0            Yes           No               No  ...                 1.0   \n",
      "\n",
      "  InternetService_Fiber optic InternetService_No Contract_Month-to-month  \\\n",
      "0                         0.0                0.0                     1.0   \n",
      "\n",
      "  Contract_One year Contract_Two year  \\\n",
      "0               0.0               0.0   \n",
      "\n",
      "   PaymentMethod_Bank transfer (automatic)  \\\n",
      "0                                      0.0   \n",
      "\n",
      "   PaymentMethod_Credit card (automatic)  PaymentMethod_Electronic check  \\\n",
      "0                                    0.0                             1.0   \n",
      "\n",
      "   PaymentMethod_Mailed check  \n",
      "0                         0.0  \n",
      "\n",
      "[1 rows x 26 columns]\n"
     ]
    }
   ],
   "source": [
    "# One Hot Encoding\n",
    "\n",
    "# Convert input dictionary to DataFrame\n",
    "input_df = pd.DataFrame(input_data)\n",
    "\n",
    "# Select categorical columns that need encoding (same as used in training)\n",
    "categorical_columns = ['InternetService', 'Contract', 'PaymentMethod']\n",
    "\n",
    "# Apply OneHotEncoding to categorical columns\n",
    "encoded_features = onehot_encoder.transform(input_df[categorical_columns])\n",
    "\n",
    "# Convert the encoded data to DataFrame with proper column names\n",
    "encoded_df = pd.DataFrame(encoded_features, columns=onehot_encoder.get_feature_names_out())\n",
    "\n",
    "# Drop the original categorical columns from input data\n",
    "input_df = input_df.drop(columns=categorical_columns)\n",
    "\n",
    "# Merge input data with encoded features\n",
    "final_input_df = pd.concat([input_df, encoded_df], axis=1)\n",
    "\n",
    "# Print the final transformed input data\n",
    "print(final_input_df[:1])\n"
   ]
  },
  {
   "cell_type": "code",
   "execution_count": 5,
   "metadata": {},
   "outputs": [
    {
     "name": "stdout",
     "output_type": "stream",
     "text": [
      "   gender  SeniorCitizen  Partner  Dependents tenure  PhoneService  \\\n",
      "0       1              0        1           0     12             1   \n",
      "\n",
      "   MultipleLines  OnlineSecurity  OnlineBackup  DeviceProtection  ...  \\\n",
      "0              0               1             0                 0  ...   \n",
      "\n",
      "   InternetService_DSL  InternetService_Fiber optic  InternetService_No  \\\n",
      "0                  1.0                          0.0                 0.0   \n",
      "\n",
      "   Contract_Month-to-month Contract_One year Contract_Two year  \\\n",
      "0                      1.0               0.0               0.0   \n",
      "\n",
      "   PaymentMethod_Bank transfer (automatic)  \\\n",
      "0                                      0.0   \n",
      "\n",
      "   PaymentMethod_Credit card (automatic)  PaymentMethod_Electronic check  \\\n",
      "0                                    0.0                             1.0   \n",
      "\n",
      "   PaymentMethod_Mailed check  \n",
      "0                         0.0  \n",
      "\n",
      "[1 rows x 26 columns]\n"
     ]
    }
   ],
   "source": [
    "# List of categorical features to be Label Encoded\n",
    "label_encoded_columns = [\n",
    "    'gender', 'SeniorCitizen', 'Partner', 'Dependents', 'PhoneService', 'MultipleLines', \n",
    "    'OnlineSecurity', 'OnlineBackup', 'DeviceProtection', 'TechSupport', 'StreamingTV', \n",
    "    'StreamingMovies', 'PaperlessBilling', 'Churn'\n",
    "]\n",
    "\n",
    "for col in label_encoded_columns:\n",
    "    if col in final_input_df.columns and col in label_encoders:\n",
    "        # Convert column to string\n",
    "        final_input_df[col] = final_input_df[col].astype(str)\n",
    "\n",
    "        # Debug: Print unique values before encoding\n",
    "        # print(f\"Unique values in {col} before encoding: {final_input_df[col].unique()}\")\n",
    "        # print(f\"Label Encoder Classes for {col}: {label_encoders[col].classes_}\")\n",
    "\n",
    "        # Ensure the encoder has seen the values\n",
    "        known_classes = set(label_encoders[col].classes_)\n",
    "        \n",
    "        # Replace unseen values with a known class (e.g., most frequent one)\n",
    "        final_input_df[col] = final_input_df[col].apply(lambda x: x if x in known_classes else list(known_classes)[0])\n",
    "\n",
    "        # Apply transformation\n",
    "        final_input_df[col] = label_encoders[col].transform(final_input_df[col])\n",
    "\n",
    "# Print the final transformed input data\n",
    "print(final_input_df)"
   ]
  },
  {
   "cell_type": "code",
   "execution_count": 6,
   "metadata": {},
   "outputs": [
    {
     "name": "stdout",
     "output_type": "stream",
     "text": [
      "   gender  SeniorCitizen  Partner  Dependents tenure  PhoneService  \\\n",
      "0       1              0        1           0     12             1   \n",
      "\n",
      "   MultipleLines  OnlineSecurity  OnlineBackup  DeviceProtection  ...  \\\n",
      "0              0               1             0                 0  ...   \n",
      "\n",
      "   InternetService_DSL  InternetService_Fiber optic  InternetService_No  \\\n",
      "0                  1.0                          0.0                 0.0   \n",
      "\n",
      "   Contract_Month-to-month Contract_One year Contract_Two year  \\\n",
      "0                      1.0               0.0               0.0   \n",
      "\n",
      "   PaymentMethod_Bank transfer (automatic)  \\\n",
      "0                                      0.0   \n",
      "\n",
      "   PaymentMethod_Credit card (automatic)  PaymentMethod_Electronic check  \\\n",
      "0                                    0.0                             1.0   \n",
      "\n",
      "   PaymentMethod_Mailed check  \n",
      "0                         0.0  \n",
      "\n",
      "[1 rows x 26 columns]\n"
     ]
    }
   ],
   "source": [
    "print(final_input_df)"
   ]
  },
  {
   "cell_type": "code",
   "execution_count": 7,
   "metadata": {},
   "outputs": [
    {
     "data": {
      "text/html": [
       "<div>\n",
       "<style scoped>\n",
       "    .dataframe tbody tr th:only-of-type {\n",
       "        vertical-align: middle;\n",
       "    }\n",
       "\n",
       "    .dataframe tbody tr th {\n",
       "        vertical-align: top;\n",
       "    }\n",
       "\n",
       "    .dataframe thead th {\n",
       "        text-align: right;\n",
       "    }\n",
       "</style>\n",
       "<table border=\"1\" class=\"dataframe\">\n",
       "  <thead>\n",
       "    <tr style=\"text-align: right;\">\n",
       "      <th></th>\n",
       "      <th>gender</th>\n",
       "      <th>SeniorCitizen</th>\n",
       "      <th>Partner</th>\n",
       "      <th>Dependents</th>\n",
       "      <th>tenure</th>\n",
       "      <th>PhoneService</th>\n",
       "      <th>MultipleLines</th>\n",
       "      <th>OnlineSecurity</th>\n",
       "      <th>OnlineBackup</th>\n",
       "      <th>DeviceProtection</th>\n",
       "      <th>...</th>\n",
       "      <th>InternetService_DSL</th>\n",
       "      <th>InternetService_Fiber optic</th>\n",
       "      <th>InternetService_No</th>\n",
       "      <th>Contract_Month-to-month</th>\n",
       "      <th>Contract_One year</th>\n",
       "      <th>Contract_Two year</th>\n",
       "      <th>PaymentMethod_Bank transfer (automatic)</th>\n",
       "      <th>PaymentMethod_Credit card (automatic)</th>\n",
       "      <th>PaymentMethod_Electronic check</th>\n",
       "      <th>PaymentMethod_Mailed check</th>\n",
       "    </tr>\n",
       "  </thead>\n",
       "  <tbody>\n",
       "    <tr>\n",
       "      <th>0</th>\n",
       "      <td>1</td>\n",
       "      <td>0</td>\n",
       "      <td>1</td>\n",
       "      <td>0</td>\n",
       "      <td>12</td>\n",
       "      <td>1</td>\n",
       "      <td>0</td>\n",
       "      <td>1</td>\n",
       "      <td>0</td>\n",
       "      <td>0</td>\n",
       "      <td>...</td>\n",
       "      <td>1.0</td>\n",
       "      <td>0.0</td>\n",
       "      <td>0.0</td>\n",
       "      <td>1.0</td>\n",
       "      <td>0.0</td>\n",
       "      <td>0.0</td>\n",
       "      <td>0.0</td>\n",
       "      <td>0.0</td>\n",
       "      <td>1.0</td>\n",
       "      <td>0.0</td>\n",
       "    </tr>\n",
       "  </tbody>\n",
       "</table>\n",
       "<p>1 rows × 26 columns</p>\n",
       "</div>"
      ],
      "text/plain": [
       "   gender  SeniorCitizen  Partner  Dependents tenure  PhoneService  \\\n",
       "0       1              0        1           0     12             1   \n",
       "\n",
       "   MultipleLines  OnlineSecurity  OnlineBackup  DeviceProtection  ...  \\\n",
       "0              0               1             0                 0  ...   \n",
       "\n",
       "   InternetService_DSL  InternetService_Fiber optic  InternetService_No  \\\n",
       "0                  1.0                          0.0                 0.0   \n",
       "\n",
       "   Contract_Month-to-month Contract_One year Contract_Two year  \\\n",
       "0                      1.0               0.0               0.0   \n",
       "\n",
       "   PaymentMethod_Bank transfer (automatic)  \\\n",
       "0                                      0.0   \n",
       "\n",
       "   PaymentMethod_Credit card (automatic)  PaymentMethod_Electronic check  \\\n",
       "0                                    0.0                             1.0   \n",
       "\n",
       "   PaymentMethod_Mailed check  \n",
       "0                         0.0  \n",
       "\n",
       "[1 rows x 26 columns]"
      ]
     },
     "execution_count": 7,
     "metadata": {},
     "output_type": "execute_result"
    }
   ],
   "source": [
    "final_input_df"
   ]
  },
  {
   "cell_type": "code",
   "execution_count": 8,
   "metadata": {},
   "outputs": [
    {
     "data": {
      "text/plain": [
       "array([[ 0.97545208, -0.4377492 ,  1.03137591, -0.65266232, -0.83419795,\n",
       "         0.32957344, -0.86052337,  1.5809424 , -0.73382801, -0.72212816,\n",
       "        -0.63776294, -0.79474818, -0.79951251,  0.83332832, -1.16378023,\n",
       "        -0.88051512,  1.38044248, -0.88705673, -0.52408075,  0.90963773,\n",
       "        -0.52353044, -0.55835281, -0.53067848, -0.52765585,  1.40914569,\n",
       "        -0.54274967]])"
      ]
     },
     "execution_count": 8,
     "metadata": {},
     "output_type": "execute_result"
    }
   ],
   "source": [
    "# scaling the input data\n",
    "input_scaled = scaler.transform(final_input_df)\n",
    "input_scaled"
   ]
  },
  {
   "cell_type": "code",
   "execution_count": 9,
   "metadata": {},
   "outputs": [
    {
     "name": "stdout",
     "output_type": "stream",
     "text": [
      "1/1 [==============================] - 2s 2s/step\n"
     ]
    },
    {
     "data": {
      "text/plain": [
       "array([[0.13607153]], dtype=float32)"
      ]
     },
     "execution_count": 9,
     "metadata": {},
     "output_type": "execute_result"
    }
   ],
   "source": [
    "# predict churn\n",
    "prediction = model.predict(input_scaled)\n",
    "prediction"
   ]
  },
  {
   "cell_type": "code",
   "execution_count": 10,
   "metadata": {},
   "outputs": [],
   "source": [
    "prediction_probability = prediction[0][0]"
   ]
  },
  {
   "cell_type": "code",
   "execution_count": 11,
   "metadata": {},
   "outputs": [
    {
     "data": {
      "text/plain": [
       "0.13607153"
      ]
     },
     "execution_count": 11,
     "metadata": {},
     "output_type": "execute_result"
    }
   ],
   "source": [
    "prediction_probability"
   ]
  },
  {
   "cell_type": "code",
   "execution_count": 12,
   "metadata": {},
   "outputs": [
    {
     "name": "stdout",
     "output_type": "stream",
     "text": [
      "The customer is not likely to churn\n"
     ]
    }
   ],
   "source": [
    "if prediction_probability > 0.5:\n",
    "    print(\"The customer is likely to churn\")\n",
    "\n",
    "else:\n",
    "    print(\"The customer is not likely to churn\")"
   ]
  },
  {
   "cell_type": "code",
   "execution_count": null,
   "metadata": {},
   "outputs": [],
   "source": []
  }
 ],
 "metadata": {
  "kernelspec": {
   "display_name": "Python 3",
   "language": "python",
   "name": "python3"
  },
  "language_info": {
   "codemirror_mode": {
    "name": "ipython",
    "version": 3
   },
   "file_extension": ".py",
   "mimetype": "text/x-python",
   "name": "python",
   "nbconvert_exporter": "python",
   "pygments_lexer": "ipython3",
   "version": "3.9.0"
  }
 },
 "nbformat": 4,
 "nbformat_minor": 2
}
